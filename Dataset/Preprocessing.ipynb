{
 "cells": [
  {
   "cell_type": "markdown",
   "id": "182f6780",
   "metadata": {},
   "source": [
    "**As a pre-step, we convert the PDF-formatted dataset to the EXCEL-formatted one.**"
   ]
  },
  {
   "cell_type": "code",
   "execution_count": 1,
   "id": "1fd0d498",
   "metadata": {},
   "outputs": [],
   "source": [
    "import warnings\n",
    "warnings.filterwarnings('ignore')"
   ]
  },
  {
   "cell_type": "code",
   "execution_count": 5,
   "id": "4848a3a1",
   "metadata": {},
   "outputs": [],
   "source": [
    "import numpy as np\n",
    "import pandas as pd\n",
    "import networkx as nx"
   ]
  },
  {
   "cell_type": "markdown",
   "id": "1ccdc633",
   "metadata": {},
   "source": [
    "# Data Preprocessing"
   ]
  },
  {
   "cell_type": "markdown",
   "id": "1d3557c8",
   "metadata": {},
   "source": [
    "## Node"
   ]
  },
  {
   "cell_type": "code",
   "execution_count": 6,
   "id": "a95f419a",
   "metadata": {},
   "outputs": [],
   "source": [
    "node_skiprows = list(range(1, 5))"
   ]
  },
  {
   "cell_type": "code",
   "execution_count": 8,
   "id": "944b2043",
   "metadata": {},
   "outputs": [],
   "source": [
    "# Import Node\n",
    "node_df = pd.read_excel('Original_Dataset/Vaccination_data.xlsx').iloc[:1326]; \n",
    "node_df.head();"
   ]
  },
  {
   "cell_type": "code",
   "execution_count": 9,
   "id": "c64314db",
   "metadata": {},
   "outputs": [
    {
     "data": {
      "text/html": [
       "<div>\n",
       "<style scoped>\n",
       "    .dataframe tbody tr th:only-of-type {\n",
       "        vertical-align: middle;\n",
       "    }\n",
       "\n",
       "    .dataframe tbody tr th {\n",
       "        vertical-align: top;\n",
       "    }\n",
       "\n",
       "    .dataframe thead th {\n",
       "        text-align: right;\n",
       "    }\n",
       "</style>\n",
       "<table border=\"1\" class=\"dataframe\">\n",
       "  <thead>\n",
       "    <tr style=\"text-align: right;\">\n",
       "      <th></th>\n",
       "      <th>selector</th>\n",
       "      <th>polarity</th>\n",
       "      <th>x</th>\n",
       "      <th>y</th>\n",
       "      <th>banner_cdc</th>\n",
       "      <th>fan_count</th>\n",
       "      <th>degree</th>\n",
       "      <th>in_degree</th>\n",
       "    </tr>\n",
       "  </thead>\n",
       "  <tbody>\n",
       "    <tr>\n",
       "      <th>0</th>\n",
       "      <td>a_001</td>\n",
       "      <td>anti_vaccines</td>\n",
       "      <td>1567.709717</td>\n",
       "      <td>-24218.750000</td>\n",
       "      <td>False</td>\n",
       "      <td>94.0</td>\n",
       "      <td>0.0</td>\n",
       "      <td>0.0</td>\n",
       "    </tr>\n",
       "    <tr>\n",
       "      <th>1</th>\n",
       "      <td>a_00100</td>\n",
       "      <td>anti_vaccines</td>\n",
       "      <td>-1835.667725</td>\n",
       "      <td>25781.250000</td>\n",
       "      <td>NaN</td>\n",
       "      <td>0.0</td>\n",
       "      <td>0.0</td>\n",
       "      <td>0.0</td>\n",
       "    </tr>\n",
       "    <tr>\n",
       "      <th>2</th>\n",
       "      <td>a_001001</td>\n",
       "      <td>anti_vaccines</td>\n",
       "      <td>160.108688</td>\n",
       "      <td>-749.809448</td>\n",
       "      <td>False</td>\n",
       "      <td>22175.0</td>\n",
       "      <td>3.0</td>\n",
       "      <td>3.0</td>\n",
       "    </tr>\n",
       "    <tr>\n",
       "      <th>3</th>\n",
       "      <td>a_001002</td>\n",
       "      <td>anti_vaccines</td>\n",
       "      <td>-137.362717</td>\n",
       "      <td>-676.494263</td>\n",
       "      <td>True</td>\n",
       "      <td>423.0</td>\n",
       "      <td>7.0</td>\n",
       "      <td>6.0</td>\n",
       "    </tr>\n",
       "    <tr>\n",
       "      <th>4</th>\n",
       "      <td>a_001003</td>\n",
       "      <td>anti_vaccines</td>\n",
       "      <td>181.973236</td>\n",
       "      <td>-107.275665</td>\n",
       "      <td>True</td>\n",
       "      <td>289.0</td>\n",
       "      <td>8.0</td>\n",
       "      <td>8.0</td>\n",
       "    </tr>\n",
       "  </tbody>\n",
       "</table>\n",
       "</div>"
      ],
      "text/plain": [
       "   selector       polarity            x             y banner_cdc  fan_count  \\\n",
       "0     a_001  anti_vaccines  1567.709717 -24218.750000      False       94.0   \n",
       "1   a_00100  anti_vaccines -1835.667725  25781.250000        NaN        0.0   \n",
       "2  a_001001  anti_vaccines   160.108688   -749.809448      False    22175.0   \n",
       "3  a_001002  anti_vaccines  -137.362717   -676.494263       True      423.0   \n",
       "4  a_001003  anti_vaccines   181.973236   -107.275665       True      289.0   \n",
       "\n",
       "   degree  in_degree  \n",
       "0     0.0        0.0  \n",
       "1     0.0        0.0  \n",
       "2     3.0        3.0  \n",
       "3     7.0        6.0  \n",
       "4     8.0        8.0  "
      ]
     },
     "execution_count": 9,
     "metadata": {},
     "output_type": "execute_result"
    }
   ],
   "source": [
    "# Drop Extra Columns\n",
    "node_col_drop = ['Unnamed: 1', 'Unnamed: 4', 'Unnamed: 5', 'Unnamed: 7', 'Unnamed: 8', 'Unnamed: 10', 'Unnamed: 11']\n",
    "for col_drop in node_col_drop:\n",
    "    node_df = node_df.drop(col_drop, 1)\n",
    "node_df.head()"
   ]
  },
  {
   "cell_type": "markdown",
   "id": "6884e357",
   "metadata": {},
   "source": [
    "## Edge"
   ]
  },
  {
   "cell_type": "code",
   "execution_count": 11,
   "id": "4c595d95",
   "metadata": {},
   "outputs": [],
   "source": [
    "# Import Edges\n",
    "edge_df = pd.read_excel('Original_Dataset/Vaccination_data.xlsx', header=[2654]).iloc[:7675]; \n",
    "edge_df;"
   ]
  },
  {
   "cell_type": "code",
   "execution_count": 12,
   "id": "f420fec4",
   "metadata": {},
   "outputs": [
    {
     "data": {
      "text/html": [
       "<div>\n",
       "<style scoped>\n",
       "    .dataframe tbody tr th:only-of-type {\n",
       "        vertical-align: middle;\n",
       "    }\n",
       "\n",
       "    .dataframe tbody tr th {\n",
       "        vertical-align: top;\n",
       "    }\n",
       "\n",
       "    .dataframe thead th {\n",
       "        text-align: right;\n",
       "    }\n",
       "</style>\n",
       "<table border=\"1\" class=\"dataframe\">\n",
       "  <thead>\n",
       "    <tr style=\"text-align: right;\">\n",
       "      <th></th>\n",
       "      <th>source</th>\n",
       "      <th>target</th>\n",
       "      <th>polarity</th>\n",
       "      <th>T1</th>\n",
       "      <th>capture_date</th>\n",
       "    </tr>\n",
       "  </thead>\n",
       "  <tbody>\n",
       "    <tr>\n",
       "      <th>0</th>\n",
       "      <td>p_00667</td>\n",
       "      <td>n_00381</td>\n",
       "      <td>pro_vaccines</td>\n",
       "      <td>FALSE</td>\n",
       "      <td>2019-10-05 00:00:00</td>\n",
       "    </tr>\n",
       "    <tr>\n",
       "      <th>1</th>\n",
       "      <td>a_00502</td>\n",
       "      <td>a_001280</td>\n",
       "      <td>an#_vaccines</td>\n",
       "      <td>TRUE</td>\n",
       "      <td>2019-10-05 00:00:00</td>\n",
       "    </tr>\n",
       "    <tr>\n",
       "      <th>2</th>\n",
       "      <td>p_00914</td>\n",
       "      <td>p_001274</td>\n",
       "      <td>pro_vaccines</td>\n",
       "      <td>TRUE</td>\n",
       "      <td>2019-10-05 00:00:00</td>\n",
       "    </tr>\n",
       "    <tr>\n",
       "      <th>3</th>\n",
       "      <td>p_00914</td>\n",
       "      <td>p_001233</td>\n",
       "      <td>pro_vaccines</td>\n",
       "      <td>TRUE</td>\n",
       "      <td>2019-10-05 00:00:00</td>\n",
       "    </tr>\n",
       "    <tr>\n",
       "      <th>4</th>\n",
       "      <td>p_00914</td>\n",
       "      <td>p_001142</td>\n",
       "      <td>pro_vaccines</td>\n",
       "      <td>TRUE</td>\n",
       "      <td>2019-10-05 00:00:00</td>\n",
       "    </tr>\n",
       "  </tbody>\n",
       "</table>\n",
       "</div>"
      ],
      "text/plain": [
       "    source    target      polarity     T1         capture_date\n",
       "0  p_00667   n_00381  pro_vaccines  FALSE  2019-10-05 00:00:00\n",
       "1  a_00502  a_001280  an#_vaccines   TRUE  2019-10-05 00:00:00\n",
       "2  p_00914  p_001274  pro_vaccines   TRUE  2019-10-05 00:00:00\n",
       "3  p_00914  p_001233  pro_vaccines   TRUE  2019-10-05 00:00:00\n",
       "4  p_00914  p_001142  pro_vaccines   TRUE  2019-10-05 00:00:00"
      ]
     },
     "execution_count": 12,
     "metadata": {},
     "output_type": "execute_result"
    }
   ],
   "source": [
    "# Drop Extra Columns\n",
    "edge_col_drop = ['Unnamed: 1', 'Unnamed: 4', 'Unnamed: 6', 'Unnamed: 7', 'Unnamed: 9', 'Unnamed: 10', 'Unnamed: 11', 'Unnamed: 12', 'Unnamed: 13', 'Unnamed: 14']\n",
    "for col_drop in edge_col_drop:\n",
    "    edge_df = edge_df.drop(col_drop, 1)\n",
    "# Drop Extra Rows\n",
    "edge_df = edge_df[edge_df.source != 'source']\n",
    "edge_df.head()"
   ]
  },
  {
   "cell_type": "code",
   "execution_count": 13,
   "id": "b30d9c6d",
   "metadata": {},
   "outputs": [],
   "source": [
    "# T1: edge_df1    T2: edge_df2\n",
    "edge_df2 = edge_df\n",
    "edge_df1 = edge_df[edge_df.T1 == 'TRUE']"
   ]
  },
  {
   "cell_type": "markdown",
   "id": "cefb15d3",
   "metadata": {},
   "source": [
    "## Fan size"
   ]
  },
  {
   "cell_type": "code",
   "execution_count": 15,
   "id": "cad5f45d",
   "metadata": {},
   "outputs": [],
   "source": [
    "# Import Size\n",
    "size_df = pd.read_excel('Original_Dataset/Vaccination_data.xlsx', header=[10330]).iloc[:1359]; \n",
    "size_df;"
   ]
  },
  {
   "cell_type": "code",
   "execution_count": 16,
   "id": "05753dd5",
   "metadata": {},
   "outputs": [
    {
     "data": {
      "text/html": [
       "<div>\n",
       "<style scoped>\n",
       "    .dataframe tbody tr th:only-of-type {\n",
       "        vertical-align: middle;\n",
       "    }\n",
       "\n",
       "    .dataframe tbody tr th {\n",
       "        vertical-align: top;\n",
       "    }\n",
       "\n",
       "    .dataframe thead th {\n",
       "        text-align: right;\n",
       "    }\n",
       "</style>\n",
       "<table border=\"1\" class=\"dataframe\">\n",
       "  <thead>\n",
       "    <tr style=\"text-align: right;\">\n",
       "      <th></th>\n",
       "      <th>selector</th>\n",
       "      <th>key</th>\n",
       "      <th>value_t1</th>\n",
       "      <th>value_t2</th>\n",
       "    </tr>\n",
       "  </thead>\n",
       "  <tbody>\n",
       "    <tr>\n",
       "      <th>0</th>\n",
       "      <td>a_00203</td>\n",
       "      <td>fan_count</td>\n",
       "      <td>260</td>\n",
       "      <td>261</td>\n",
       "    </tr>\n",
       "    <tr>\n",
       "      <th>1</th>\n",
       "      <td>a_00816</td>\n",
       "      <td>fan_count</td>\n",
       "      <td>3423</td>\n",
       "      <td>3507</td>\n",
       "    </tr>\n",
       "    <tr>\n",
       "      <th>2</th>\n",
       "      <td>p_00667</td>\n",
       "      <td>fan_count</td>\n",
       "      <td>1075</td>\n",
       "      <td>1400</td>\n",
       "    </tr>\n",
       "    <tr>\n",
       "      <th>3</th>\n",
       "      <td>p_00141</td>\n",
       "      <td>fan_count</td>\n",
       "      <td>720</td>\n",
       "      <td>734</td>\n",
       "    </tr>\n",
       "    <tr>\n",
       "      <th>4</th>\n",
       "      <td>a_00267</td>\n",
       "      <td>fan_count</td>\n",
       "      <td>116</td>\n",
       "      <td>117</td>\n",
       "    </tr>\n",
       "  </tbody>\n",
       "</table>\n",
       "</div>"
      ],
      "text/plain": [
       "  selector        key value_t1 value_t2\n",
       "0  a_00203  fan_count      260      261\n",
       "1  a_00816  fan_count     3423     3507\n",
       "2  p_00667  fan_count     1075     1400\n",
       "3  p_00141  fan_count      720      734\n",
       "4  a_00267  fan_count      116      117"
      ]
     },
     "execution_count": 16,
     "metadata": {},
     "output_type": "execute_result"
    }
   ],
   "source": [
    "# Drop Extra Columns\n",
    "size_col_drop = ['Unnamed: 1', 'Unnamed: 3', 'Unnamed: 5', 'Unnamed: 6', 'Unnamed: 8', 'Unnamed: 9', 'Unnamed: 10', 'Unnamed: 11', 'Unnamed: 12', 'Unnamed: 13', 'Unnamed: 14']\n",
    "for col_drop in size_col_drop:\n",
    "    size_df = size_df.drop(col_drop, 1)\n",
    "# Drop Extra Rows\n",
    "size_df = size_df[size_df.selector != 'selector']\n",
    "size_df.head()"
   ]
  },
  {
   "cell_type": "code",
   "execution_count": 17,
   "id": "5841dbaf",
   "metadata": {},
   "outputs": [],
   "source": [
    "fan_size_t1 = []; fan_size_t2 = []\n",
    "for selector in node_df.selector.values:\n",
    "    fan_size_t1.append(size_df[size_df.selector == selector].value_t1.values[0])\n",
    "    fan_size_t2.append(size_df[size_df.selector == selector].value_t2.values[0])"
   ]
  },
  {
   "cell_type": "code",
   "execution_count": 18,
   "id": "46cff5c9",
   "metadata": {},
   "outputs": [],
   "source": [
    "node_df.insert(8, \"fan_size_t1\", fan_size_t1)\n",
    "node_df.insert(9, \"fan_size_t2\", fan_size_t2)"
   ]
  },
  {
   "cell_type": "code",
   "execution_count": 19,
   "id": "d093c0c6",
   "metadata": {},
   "outputs": [
    {
     "data": {
      "text/html": [
       "<div>\n",
       "<style scoped>\n",
       "    .dataframe tbody tr th:only-of-type {\n",
       "        vertical-align: middle;\n",
       "    }\n",
       "\n",
       "    .dataframe tbody tr th {\n",
       "        vertical-align: top;\n",
       "    }\n",
       "\n",
       "    .dataframe thead th {\n",
       "        text-align: right;\n",
       "    }\n",
       "</style>\n",
       "<table border=\"1\" class=\"dataframe\">\n",
       "  <thead>\n",
       "    <tr style=\"text-align: right;\">\n",
       "      <th></th>\n",
       "      <th>selector</th>\n",
       "      <th>polarity</th>\n",
       "      <th>x</th>\n",
       "      <th>y</th>\n",
       "      <th>banner_cdc</th>\n",
       "      <th>fan_count</th>\n",
       "      <th>degree</th>\n",
       "      <th>in_degree</th>\n",
       "      <th>fan_size_t1</th>\n",
       "      <th>fan_size_t2</th>\n",
       "    </tr>\n",
       "  </thead>\n",
       "  <tbody>\n",
       "    <tr>\n",
       "      <th>0</th>\n",
       "      <td>a_001</td>\n",
       "      <td>anti_vaccines</td>\n",
       "      <td>1567.709717</td>\n",
       "      <td>-24218.750000</td>\n",
       "      <td>False</td>\n",
       "      <td>94.0</td>\n",
       "      <td>0.0</td>\n",
       "      <td>0.0</td>\n",
       "      <td>78</td>\n",
       "      <td>94</td>\n",
       "    </tr>\n",
       "    <tr>\n",
       "      <th>1</th>\n",
       "      <td>a_00100</td>\n",
       "      <td>anti_vaccines</td>\n",
       "      <td>-1835.667725</td>\n",
       "      <td>25781.250000</td>\n",
       "      <td>NaN</td>\n",
       "      <td>0.0</td>\n",
       "      <td>0.0</td>\n",
       "      <td>0.0</td>\n",
       "      <td>5082</td>\n",
       "      <td>0</td>\n",
       "    </tr>\n",
       "    <tr>\n",
       "      <th>2</th>\n",
       "      <td>a_001001</td>\n",
       "      <td>anti_vaccines</td>\n",
       "      <td>160.108688</td>\n",
       "      <td>-749.809448</td>\n",
       "      <td>False</td>\n",
       "      <td>22175.0</td>\n",
       "      <td>3.0</td>\n",
       "      <td>3.0</td>\n",
       "      <td>20773</td>\n",
       "      <td>22175</td>\n",
       "    </tr>\n",
       "    <tr>\n",
       "      <th>3</th>\n",
       "      <td>a_001002</td>\n",
       "      <td>anti_vaccines</td>\n",
       "      <td>-137.362717</td>\n",
       "      <td>-676.494263</td>\n",
       "      <td>True</td>\n",
       "      <td>423.0</td>\n",
       "      <td>7.0</td>\n",
       "      <td>6.0</td>\n",
       "      <td>409</td>\n",
       "      <td>423</td>\n",
       "    </tr>\n",
       "    <tr>\n",
       "      <th>4</th>\n",
       "      <td>a_001003</td>\n",
       "      <td>anti_vaccines</td>\n",
       "      <td>181.973236</td>\n",
       "      <td>-107.275665</td>\n",
       "      <td>True</td>\n",
       "      <td>289.0</td>\n",
       "      <td>8.0</td>\n",
       "      <td>8.0</td>\n",
       "      <td>294</td>\n",
       "      <td>289</td>\n",
       "    </tr>\n",
       "  </tbody>\n",
       "</table>\n",
       "</div>"
      ],
      "text/plain": [
       "   selector       polarity            x             y banner_cdc  fan_count  \\\n",
       "0     a_001  anti_vaccines  1567.709717 -24218.750000      False       94.0   \n",
       "1   a_00100  anti_vaccines -1835.667725  25781.250000        NaN        0.0   \n",
       "2  a_001001  anti_vaccines   160.108688   -749.809448      False    22175.0   \n",
       "3  a_001002  anti_vaccines  -137.362717   -676.494263       True      423.0   \n",
       "4  a_001003  anti_vaccines   181.973236   -107.275665       True      289.0   \n",
       "\n",
       "   degree  in_degree  fan_size_t1  fan_size_t2  \n",
       "0     0.0        0.0           78           94  \n",
       "1     0.0        0.0         5082            0  \n",
       "2     3.0        3.0        20773        22175  \n",
       "3     7.0        6.0          409          423  \n",
       "4     8.0        8.0          294          289  "
      ]
     },
     "execution_count": 19,
     "metadata": {},
     "output_type": "execute_result"
    }
   ],
   "source": [
    "node_df.head()"
   ]
  },
  {
   "cell_type": "markdown",
   "id": "b813518b",
   "metadata": {},
   "source": [
    "# Create Graph"
   ]
  },
  {
   "cell_type": "code",
   "execution_count": 20,
   "id": "9c036df6",
   "metadata": {},
   "outputs": [],
   "source": [
    "G1 = nx.DiGraph(); G2 = nx.DiGraph()"
   ]
  },
  {
   "cell_type": "code",
   "execution_count": 22,
   "id": "748b205c",
   "metadata": {},
   "outputs": [],
   "source": [
    "# Add nodes\n",
    "node_name = node_df[[\"selector\"]].values.tolist(); node_name = sum(node_name, [])\n",
    "node_polarity = node_df[[\"polarity\"]].values.tolist(); node_polarity = sum(node_polarity, [])\n",
    "\n",
    "node_pos = node_df[[\"x\", \"y\"]].values.tolist(); node_pos = [tuple(x) for x in node_pos]\n",
    "\n",
    "fan_size_t1 = node_df[[\"fan_size_t1\"]].values.tolist(); fan_size_t1 = sum(fan_size_t1, [])\n",
    "fan_size_t2 = node_df[[\"fan_size_t2\"]].values.tolist(); fan_size_t2 = sum(fan_size_t2, [])\n",
    "\n",
    "for i in range(len(node_name)):\n",
    "    G1.add_node(node_name[i], polarity = node_polarity[i], pos = node_pos[i], fan_size = fan_size_t1[i])\n",
    "    G2.add_node(node_name[i], polarity = node_polarity[i], pos = node_pos[i], fan_size = fan_size_t2[i])"
   ]
  },
  {
   "cell_type": "code",
   "execution_count": 23,
   "id": "d3d59108",
   "metadata": {},
   "outputs": [],
   "source": [
    "# Add edges\n",
    "edge1 = edge_df1[[\"source\", \"target\"]].values.tolist(); \n",
    "edge2 = edge_df2[[\"source\", \"target\"]].values.tolist();\n",
    "\n",
    "edgeincrease_df = edge_df[edge_df.T1 == 'FALSE']; \n",
    "edge_increase = edgeincrease_df[[\"source\", \"target\"]].values.tolist();\n",
    "\n",
    "for i in range(len(edge1)):\n",
    "    G1.add_edge(edge1[i][0], edge1[i][1])\n",
    "\n",
    "for i in range(len(edge2)):\n",
    "    G2.add_edge(edge2[i][0], edge2[i][1])"
   ]
  },
  {
   "cell_type": "markdown",
   "id": "073f77f1",
   "metadata": {},
   "source": [
    "## Save Graph"
   ]
  },
  {
   "cell_type": "code",
   "execution_count": 25,
   "id": "57328ecb",
   "metadata": {},
   "outputs": [],
   "source": [
    "nx.write_gpickle(G1, \"Reorganized_Dataset/G1.gpickle\")\n",
    "nx.write_gpickle(G2, \"Reorganized_Dataset/G2.gpickle\")"
   ]
  },
  {
   "cell_type": "code",
   "execution_count": 26,
   "id": "bae90ec4",
   "metadata": {
    "cell_style": "split"
   },
   "outputs": [
    {
     "data": {
      "text/plain": [
       "'DiGraph with 1326 nodes and 5163 edges'"
      ]
     },
     "execution_count": 26,
     "metadata": {},
     "output_type": "execute_result"
    }
   ],
   "source": [
    "nx.info(G1)"
   ]
  },
  {
   "cell_type": "code",
   "execution_count": 27,
   "id": "68e00692",
   "metadata": {
    "cell_style": "split"
   },
   "outputs": [
    {
     "data": {
      "text/plain": [
       "'DiGraph with 1326 nodes and 7484 edges'"
      ]
     },
     "execution_count": 27,
     "metadata": {},
     "output_type": "execute_result"
    }
   ],
   "source": [
    "nx.info(G2)"
   ]
  },
  {
   "cell_type": "code",
   "execution_count": 28,
   "id": "8e97708e",
   "metadata": {
    "cell_style": "split"
   },
   "outputs": [
    {
     "data": {
      "text/plain": [
       "{'polarity': 'anti_vaccines', 'pos': (1567.709717, -24218.75), 'fan_size': 78}"
      ]
     },
     "execution_count": 28,
     "metadata": {},
     "output_type": "execute_result"
    }
   ],
   "source": [
    "G1.nodes['a_001']"
   ]
  },
  {
   "cell_type": "code",
   "execution_count": 29,
   "id": "0a5d45cf",
   "metadata": {
    "cell_style": "split"
   },
   "outputs": [
    {
     "data": {
      "text/plain": [
       "{'polarity': 'anti_vaccines', 'pos': (1567.709717, -24218.75), 'fan_size': 94}"
      ]
     },
     "execution_count": 29,
     "metadata": {},
     "output_type": "execute_result"
    }
   ],
   "source": [
    "G2.nodes['a_001']"
   ]
  },
  {
   "cell_type": "code",
   "execution_count": 30,
   "id": "25fe422f",
   "metadata": {
    "cell_style": "split"
   },
   "outputs": [
    {
     "data": {
      "text/plain": [
       "{}"
      ]
     },
     "execution_count": 30,
     "metadata": {},
     "output_type": "execute_result"
    }
   ],
   "source": [
    "G1.edges[('a_001002', 'a_001251')]"
   ]
  },
  {
   "cell_type": "code",
   "execution_count": 31,
   "id": "2de7c1a7",
   "metadata": {
    "cell_style": "split"
   },
   "outputs": [
    {
     "data": {
      "text/plain": [
       "{}"
      ]
     },
     "execution_count": 31,
     "metadata": {},
     "output_type": "execute_result"
    }
   ],
   "source": [
    "G2.edges[('a_001002', 'a_001251')]"
   ]
  }
 ],
 "metadata": {
  "hide_input": false,
  "kernelspec": {
   "display_name": "Python 3 (ipykernel)",
   "language": "python",
   "name": "python3"
  },
  "language_info": {
   "codemirror_mode": {
    "name": "ipython",
    "version": 3
   },
   "file_extension": ".py",
   "mimetype": "text/x-python",
   "name": "python",
   "nbconvert_exporter": "python",
   "pygments_lexer": "ipython3",
   "version": "3.8.12"
  },
  "toc": {
   "base_numbering": 1,
   "nav_menu": {},
   "number_sections": true,
   "sideBar": true,
   "skip_h1_title": false,
   "title_cell": "Table of Contents",
   "title_sidebar": "Contents",
   "toc_cell": false,
   "toc_position": {},
   "toc_section_display": true,
   "toc_window_display": false
  }
 },
 "nbformat": 4,
 "nbformat_minor": 5
}
